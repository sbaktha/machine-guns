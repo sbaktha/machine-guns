{
 "nbformat": 4,
 "nbformat_minor": 2,
 "metadata": {
  "language_info": {
   "name": "python",
   "codemirror_mode": {
    "name": "ipython",
    "version": 3
   },
   "version": "3.5.2-final"
  },
  "orig_nbformat": 2,
  "file_extension": ".py",
  "mimetype": "text/x-python",
  "name": "python",
  "npconvert_exporter": "python",
  "pygments_lexer": "ipython3",
  "version": 3,
  "kernelspec": {
   "name": "python35264bitcdf8562746e743b8845009c8b016ec55",
   "display_name": "Python 3.5.2 64-bit"
  }
 },
 "cells": [
  {
   "cell_type": "code",
   "execution_count": 3,
   "metadata": {},
   "outputs": [
    {
     "name": "stdout",
     "output_type": "stream",
     "text": "Requirement already satisfied: kaggle in /home/baktha/.virtualenvs/udemyenv/lib/python3.5/site-packages (1.5.6)\nRequirement already satisfied: tqdm in /home/baktha/.virtualenvs/udemyenv/lib/python3.5/site-packages (from kaggle) (4.38.0)\nRequirement already satisfied: python-slugify in /home/baktha/.virtualenvs/udemyenv/lib/python3.5/site-packages (from kaggle) (4.0.0)\nRequirement already satisfied: requests in /home/baktha/.virtualenvs/udemyenv/lib/python3.5/site-packages (from kaggle) (2.19.1)\nRequirement already satisfied: python-dateutil in /home/baktha/.virtualenvs/udemyenv/lib/python3.5/site-packages (from kaggle) (2.7.5)\nRequirement already satisfied: six>=1.10 in /home/baktha/.virtualenvs/udemyenv/lib/python3.5/site-packages (from kaggle) (1.11.0)\nRequirement already satisfied: urllib3<1.25,>=1.21.1 in /home/baktha/.virtualenvs/udemyenv/lib/python3.5/site-packages (from kaggle) (1.23)\nRequirement already satisfied: certifi in /home/baktha/.virtualenvs/udemyenv/lib/python3.5/site-packages (from kaggle) (2018.4.16)\nRequirement already satisfied: text-unidecode>=1.3 in /home/baktha/.virtualenvs/udemyenv/lib/python3.5/site-packages (from python-slugify->kaggle) (1.3)\nRequirement already satisfied: chardet<3.1.0,>=3.0.2 in /home/baktha/.virtualenvs/udemyenv/lib/python3.5/site-packages (from requests->kaggle) (3.0.4)\nRequirement already satisfied: idna<2.8,>=2.5 in /home/baktha/.virtualenvs/udemyenv/lib/python3.5/site-packages (from requests->kaggle) (2.7)\n"
    }
   ],
   "source": [
    "!pip install kaggle\n",
    "!chmod 600 /home/baktha/.kaggle/kaggle.json"
   ]
  },
  {
   "cell_type": "code",
   "execution_count": 2,
   "metadata": {},
   "outputs": [
    {
     "name": "stdout",
     "output_type": "stream",
     "text": "Warning: Your Kaggle API key is readable by other users on this system! To fix this, you can run 'chmod 600 /home/baktha/.kaggle/kaggle.json'\nref                                                         title                                                size  lastUpdated          downloadCount  voteCount  usabilityRating  \n----------------------------------------------------------  --------------------------------------------------  -----  -------------------  -------------  ---------  ---------------  \nsudalairajkumar/novel-corona-virus-2019-dataset             Novel Corona Virus 2019 Dataset                     359KB  2020-03-15 04:49:56          42835       1917  0.9705882        \nkimjihoo/coronavirusdataset                                 Coronavirus-Dataset                                  32KB  2020-03-13 13:48:11          14012        624  1.0              \nshivamb/real-or-fake-fake-jobposting-prediction             [Real or Fake] Fake JobPosting Prediction            16MB  2020-02-29 08:23:34           1410         88  1.0              \nimdevskp/sars-outbreak-2003-complete-dataset                SARS 2003 Outbreak Complete Dataset                  10KB  2020-02-26 10:25:22           1173         45  1.0              \nimdevskp/ebola-outbreak-20142016-complete-dataset           Ebola 2014-2016 Outbreak Complete Dataset           101KB  2020-02-26 14:36:31           1161         55  1.0              \nbrunotly/foreign-exchange-rates-per-dollar-20002019         Foreign Exchange Rates 2000-2019                      1MB  2020-03-03 17:43:07           1086         49  1.0              \nprakrutchauhan/indian-candidates-for-general-election-2019  Indian Candidates for General Election 2019         133KB  2020-03-03 07:01:53            744         41  0.7058824        \ngpiosenka/100-bird-species                                  140 Bird Species                                    828MB  2020-03-11 23:44:39            603         53  0.6875           \nshank885/knife-dataset                                      Knife Dataset                                         1MB  2020-03-02 06:43:53            253         15  0.875            \nrupals/gpu-runtime                                          Segmentation on GPU Kernel Performance Dataset        4MB  2020-03-01 10:04:27            177         13  0.8235294        \npaultimothymooney/repository-of-coronavirus-genomes         Repository of Coronavirus Genomes                    37MB  2020-03-03 02:01:34            121         14  0.8235294        \numangjpatel/pap-smear-datasets                              Pap Smear Datasets                                    6GB  2020-03-07 11:04:23            155         17  0.875            \npaultimothymooney/coronavirus-genome-sequence               Coronavirus Genome Sequence                           9MB  2020-02-29 00:25:13            219         24  1.0              \njessemostipak/hotel-booking-demand                          Hotel booking demand                                  1MB  2020-02-13 01:27:20           8302        361  1.0              \ntunguz/big-five-personality-test                            Big Five Personality Test                           159MB  2020-02-17 15:59:37           2520        175  0.9705882        \ntimoboz/data-science-cheat-sheets                           Data Science Cheat Sheets                           596MB  2020-02-04 19:42:27           4526        286  0.875            \narindam235/startup-investments-crunchbase                   StartUp Investments (Crunchbase)                      3MB  2020-02-17 21:54:42           1954        117  0.88235295       \ntimoboz/tesla-stock-data-from-2010-to-2020                  Tesla stock data from 2010 to 2020                   46KB  2020-02-04 17:15:32           2522        105  1.0              \nbrendaso/2019-coronavirus-dataset-01212020-01262020         2019 Coronavirus dataset (January - February 2020)   53KB  2020-02-06 18:09:28           8381        425  0.7352941        \ntimoboz/python-data-science-handbook                        Python Data Science Handbook                         15MB  2020-02-04 18:27:14           1199        153  0.88235295       \n"
    }
   ],
   "source": [
    "!kaggle datasets download sudalairajkumar/novel-corona-virus-2019-dataset\n",
    "!unzip novel-corona-virus-2019-dataset.zip"
   ]
  },
  {
   "cell_type": "code",
   "execution_count": 6,
   "metadata": {},
   "outputs": [],
   "source": [
    "import pandas as pd\n",
    "import numpy as np\n",
    "import matplotlib.pyplot as plt\n",
    "import seaborn as sns\n",
    "import json\n",
    "import random\n",
    "import warnings\n",
    "import sklearn\n",
    "import pickle"
   ]
  },
  {
   "cell_type": "code",
   "execution_count": 7,
   "metadata": {},
   "outputs": [
    {
     "data": {
      "text/html": "<div>\n<style scoped>\n    .dataframe tbody tr th:only-of-type {\n        vertical-align: middle;\n    }\n\n    .dataframe tbody tr th {\n        vertical-align: top;\n    }\n\n    .dataframe thead th {\n        text-align: right;\n    }\n</style>\n<table border=\"1\" class=\"dataframe\">\n  <thead>\n    <tr style=\"text-align: right;\">\n      <th></th>\n      <th>SNo</th>\n      <th>ObservationDate</th>\n      <th>Province/State</th>\n      <th>Country/Region</th>\n      <th>Last Update</th>\n      <th>Confirmed</th>\n      <th>Deaths</th>\n      <th>Recovered</th>\n    </tr>\n  </thead>\n  <tbody>\n    <tr>\n      <th>0</th>\n      <td>1</td>\n      <td>01/22/2020</td>\n      <td>Anhui</td>\n      <td>Mainland China</td>\n      <td>1/22/2020 17:00</td>\n      <td>1.0</td>\n      <td>0.0</td>\n      <td>0.0</td>\n    </tr>\n    <tr>\n      <th>1</th>\n      <td>2</td>\n      <td>01/22/2020</td>\n      <td>Beijing</td>\n      <td>Mainland China</td>\n      <td>1/22/2020 17:00</td>\n      <td>14.0</td>\n      <td>0.0</td>\n      <td>0.0</td>\n    </tr>\n    <tr>\n      <th>2</th>\n      <td>3</td>\n      <td>01/22/2020</td>\n      <td>Chongqing</td>\n      <td>Mainland China</td>\n      <td>1/22/2020 17:00</td>\n      <td>6.0</td>\n      <td>0.0</td>\n      <td>0.0</td>\n    </tr>\n    <tr>\n      <th>3</th>\n      <td>4</td>\n      <td>01/22/2020</td>\n      <td>Fujian</td>\n      <td>Mainland China</td>\n      <td>1/22/2020 17:00</td>\n      <td>1.0</td>\n      <td>0.0</td>\n      <td>0.0</td>\n    </tr>\n    <tr>\n      <th>4</th>\n      <td>5</td>\n      <td>01/22/2020</td>\n      <td>Gansu</td>\n      <td>Mainland China</td>\n      <td>1/22/2020 17:00</td>\n      <td>0.0</td>\n      <td>0.0</td>\n      <td>0.0</td>\n    </tr>\n  </tbody>\n</table>\n</div>",
      "text/plain": "   SNo ObservationDate Province/State  Country/Region      Last Update  \\\n0    1      01/22/2020          Anhui  Mainland China  1/22/2020 17:00   \n1    2      01/22/2020        Beijing  Mainland China  1/22/2020 17:00   \n2    3      01/22/2020      Chongqing  Mainland China  1/22/2020 17:00   \n3    4      01/22/2020         Fujian  Mainland China  1/22/2020 17:00   \n4    5      01/22/2020          Gansu  Mainland China  1/22/2020 17:00   \n\n   Confirmed  Deaths  Recovered  \n0        1.0     0.0        0.0  \n1       14.0     0.0        0.0  \n2        6.0     0.0        0.0  \n3        1.0     0.0        0.0  \n4        0.0     0.0        0.0  "
     },
     "execution_count": 7,
     "metadata": {},
     "output_type": "execute_result"
    }
   ],
   "source": [
    "df= pd.read_csv('covid_19_data.csv')\n",
    "df.head(5)"
   ]
  },
  {
   "cell_type": "code",
   "execution_count": null,
   "metadata": {},
   "outputs": [],
   "source": []
  },
  {
   "cell_type": "code",
   "execution_count": null,
   "metadata": {},
   "outputs": [],
   "source": []
  },
  {
   "cell_type": "code",
   "execution_count": null,
   "metadata": {},
   "outputs": [],
   "source": []
  },
  {
   "cell_type": "code",
   "execution_count": null,
   "metadata": {},
   "outputs": [],
   "source": []
  }
 ]
}